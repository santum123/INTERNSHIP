{
 "cells": [
  {
   "cell_type": "markdown",
   "id": "67b51ee2",
   "metadata": {},
   "source": [
    "# 1.Write a python program which searches all the product under a particular product from www.amazon.in. The \n",
    "product to be searched will be taken as input from user. For e.g. If user input is ‘guitar’. Then search for \n",
    "guitars. "
   ]
  },
  {
   "cell_type": "code",
   "execution_count": 1,
   "id": "1af0bede",
   "metadata": {},
   "outputs": [],
   "source": [
    "from selenium import webdriver\n",
    "import warnings\n",
    "warnings.filterwarnings('ignore')\n",
    "from selenium.webdriver.chrome.options import Options\n",
    "from selenium.webdriver.common.by import By\n",
    "from selenium.webdriver.common.keys import Keys\n",
    "import time\n",
    "from selenium import webdriver\n",
    "import selenium\n",
    "from selenium import webdriver\n",
    "import pandas as pd\n",
    "option = webdriver.ChromeOptions()\n",
    "driver = webdriver.Chrome()\n",
    "\n",
    "driver=webdriver.Chrome()\n",
    "driver.get('https://www.amazon.in/')\n",
    "driver.find_element(By.ID,\"twotabsearchtextbox\").send_keys(\"guitar\")\n",
    "driver.find_element(By.ID,\"nav-search-submit-button\").click()"
   ]
  },
  {
   "cell_type": "markdown",
   "id": "f4486106",
   "metadata": {},
   "source": [
    "# 2.In the above question, now scrape the following details of each product listed in first 3 pages of your search \n",
    "results and save it in a data frame and csv. In case if any product has less than 3 pages in search results then \n",
    "scrape all the products available under that product name. Details to be scraped are: \"Brand \n",
    "Name\", \"Name of the Product\", \"Price\", \"Return/Exchange\", \"Expected Delivery\", \"Availability\" and \n",
    "“Product URL”. In case, if any of the details are missing for any of the product then replace it by “-“. "
   ]
  },
  {
   "cell_type": "code",
   "execution_count": null,
   "id": "9ca490a7",
   "metadata": {},
   "outputs": [],
   "source": []
  },
  {
   "cell_type": "markdown",
   "id": "377cdcc1",
   "metadata": {},
   "source": [
    "# 3. Write a python program to access the search bar and search button on images.google.com and scrape 10 \n",
    "images each for keywords ‘fruits’, ‘cars’ and ‘Machine Learning’, ‘Guitar’, ‘Cakes’. "
   ]
  },
  {
   "cell_type": "code",
   "execution_count": null,
   "id": "3f49547f",
   "metadata": {},
   "outputs": [],
   "source": [
    "import selenium\n",
    "from selenium import webdriver\n",
    "import warnings\n",
    "warnings.filterwarnings('ignore')\n",
    "from selenium.webdriver.chrome.options import Options\n",
    "from selenium.webdriver.common.by import By\n",
    "from selenium.webdriver.common.keys import Keys\n",
    "option = webdriver.ChromeOptions()\n",
    "driver = webdriver.Chrome()\n",
    "driver.get('https://images.google.com/')\n",
    "driver.find_element(By.NAME,\"q\").send_keys('fruits')\n",
    "driver.find_element(By.NAME,\"q\").clear()\n",
    "driver.find_element(By.NAME,\"q\").send_keys('cars')\n",
    "driver.find_element(By.NAME,\"q\").clear()\n",
    "driver.find_element(By.NAME,\"q\").send_keys('machine learning')\n",
    "driver.find_element(By.NAME,\"q\").clear()\n",
    "driver.find_element(By.NAME,\"q\").send_keys('guitar')\n",
    "driver.find_element(By.NAME,\"q\").clear()\n",
    "driver.find_element(By.NAME,\"q\").send_keys('cakes')\n",
    "driver.find_element(By.NAME,\"q\").clear()"
   ]
  },
  {
   "cell_type": "code",
   "execution_count": null,
   "id": "3fdd3cbf",
   "metadata": {},
   "outputs": [],
   "source": [
    "from selenium import webdriver\n",
    "import time\n",
    "driver=webdriver.Chrome()\n",
    "driver.get('https://images.google.com')\n",
    "keywords=['fruits','cars','machine learning','guitar','cakes']\n",
    "for keyword in keywords:\n",
    "    search_bar=driver.find_element(By.NAME,'q')\n",
    "    search_bar.clear()\n",
    "    search_bar.send_keys(keywords)\n",
    "    search_buttons=driver.find_element(By.CSS_SELECTOR,('button[ aria-label=\"Google Search\"]'))\n",
    "    search_button.click()\n",
    "    time.sleep(2)\n",
    "    driver.execute_script('window.scrollTo(0,document.body.scrollHeight);')\n",
    "    time.sleep()\n",
    "    images=driver.find_elements(By.CSS_SELECTOR,('img.rg_i'))\n",
    "    for i in range(10):\n",
    "        image_url=images[i].get_attribute('src')\n",
    "        print(f\"Scraped image{i+1}for keyword'{keyword}':\n",
    "             {image_url}\")\n",
    "        driver.execute_script('window.history.go(-1)')\n",
    "              time.sleep(2)\n",
    "        driver.quit()\n",
    "    "
   ]
  },
  {
   "cell_type": "markdown",
   "id": "83a8509d",
   "metadata": {},
   "source": [
    "# 4.Write a python program to search for a smartphone(e.g.: Oneplus Nord, pixel 4A, etc.) on www.flipkart.com\n",
    "and scrape following details for all the search results displayed on 1st page. Details to be scraped: “Brand \n",
    "Name”, “Smartphone name”, “Colour”, “RAM”, “Storage(ROM)”, “Primary Camera”, \n",
    "“Secondary Camera”, “Display Size”, “Battery Capacity”, “Price”, “Product URL”. Incase if any of the \n",
    "details is missing then replace it by “- “. Save your results in a dataframe and CSV"
   ]
  },
  {
   "cell_type": "code",
   "execution_count": null,
   "id": "e6a2a183",
   "metadata": {},
   "outputs": [],
   "source": [
    "import requests\n",
    "from bs4 import BeautifulSoup\n",
    "import pandas as pd\n",
    "def scrape_smartphones():\n",
    "    url='https://www.flipkart.com/search?q=smartphone'\n",
    "    response=requests.get(url)\n",
    "    soup=BeautifulSoup(response.content,'html.parser')\n",
    "    smartphones=[]\n",
    "    results=soup.find_all('div',{'class':'_1AtVbE'})\n",
    "    for result in results:\n",
    "        details={}\n",
    "    details['Brand name']=result.find('div',{'class':'_4rR01T'}).text\n",
    "    details['smartphone name']=result.find('a',{'class':'_2WKVRV'}).text\n",
    "    details['RAM']=result.find('u1',{'class':'_1xgFaf'}).text\n",
    "    details['ROM']=result.find('u1',{'class':'_1xgFaf'}).find_all('li')[2].text\n",
    "    details['display size']=result.find('u1',{'class':'_1xgFaf'}).find_all('li')[4].text\n",
    "    details['Battery Capacity']=result.find('u1',{'class':'_1xgFaf'}).find_all('li')[5].text\n",
    "    details['price']=result.find('div',{'class':'_30jeq3 _1_WHN1'}).text\n",
    "    details['product url']='https://www.flipkart.com'+result.find('a',{'class':'IRpwTa'})['href']\n",
    "    smartphones.append(details)\n",
    "    return smartphones\n",
    "smartphones=scrape_smartphones()\n",
    "df=pd.DataFrame(smartphones)\n",
    "df.fillna('-',inplace=True)\n",
    "df.to_csv('smartphones.csv',index=False)"
   ]
  },
  {
   "cell_type": "markdown",
   "id": "a6857a14",
   "metadata": {},
   "source": [
    "# 5.Write a program to scrap geospatial coordinates (latitude, longitude) of a city searched on google maps. "
   ]
  },
  {
   "cell_type": "code",
   "execution_count": null,
   "id": "009e7c69",
   "metadata": {},
   "outputs": [],
   "source": [
    "import requests\n",
    "from bs4 import BeautifulSoup\n",
    "def get_coordinates(city):\n",
    "    formatted_city=city.replace(\"\",\"+\")\n",
    "    url=f\"https://www.google.com/maps/search/{formatted_city}\"\n",
    "    response=requests.get(url)\n",
    "    soup=BeautifulSoup(response.text,'html.parser')\n",
    "    coordinates_element=soup.find('meta',itemprop='image')\n",
    "    coordinates=coordinates_element['content'].split(\";\")[1].strip().split(',')\n",
    "    longitude as a tuple\n",
    "    return float(coordinates[0]),float(coordinates[1])\n",
    "city=input('Enter a city name:')\n",
    "latitude,longitude=get_coordinates(city)\n",
    "print(f'The coordinates of {city}are:Latitude:{latitude},Longitude:{longitude}\")\n",
    "     "
   ]
  },
  {
   "cell_type": "markdown",
   "id": "b5ad5272",
   "metadata": {},
   "source": [
    "# 6.Write a program to scrap all the available details of best gaming laptops from digit.in. "
   ]
  },
  {
   "cell_type": "markdown",
   "id": "e05286cb",
   "metadata": {},
   "source": [
    "# 7.Write a python program to scrape the details for all billionaires from www.forbes.com. Details to be scrapped: \n",
    "“Rank”, “Name”, “Net worth”, “Age”, “Citizenship”, “Source”, “Industry”. "
   ]
  },
  {
   "cell_type": "code",
   "execution_count": null,
   "id": "de43ff75",
   "metadata": {},
   "outputs": [],
   "source": [
    "import requests\n",
    "from bs4 import BeautifulSoup\n",
    "url='https://www.forbes.com'\n",
    "response=requests.get(url)\n",
    "soup=BeautifulSoup(response.content,\"html.parser\")\n",
    "table=soup.find('table',class_='table')\n",
    "rows=soup.find_all('tr')\n",
    "for row in rows:\n",
    "    columns=row.find_all('td')\n",
    "    rank=columns[0].text.strip()\n",
    "    name=columns[1].text.strip()\n",
    "    net_worth=columns[2].text.strip()\n",
    "    age=columns[3].text.strip()\n",
    "    citizenship=columns[4].text.strip()\n",
    "    sourse=columns[5].text.strip()\n",
    "    industry=columns[6].text.strip()\n",
    "    print('Rank:',rank)\n",
    "    print('Name:',name)\n",
    "    print('Net worth',net_worth)\n",
    "    print('Age:',age)\n",
    "    print('Citizenship:',citizenship)\n",
    "    print('Sourse:',sourse)\n",
    "    print('industry:',industry)"
   ]
  },
  {
   "cell_type": "markdown",
   "id": "d4b57b40",
   "metadata": {},
   "source": [
    "# 8.Write a program to extract at least 500 Comments, Comment upvote and time when comment was posted \n",
    "from any YouTube Video. "
   ]
  },
  {
   "cell_type": "code",
   "execution_count": null,
   "id": "126a8b95",
   "metadata": {},
   "outputs": [],
   "source": [
    "from selenium import webdriver\n",
    "import time\n",
    "\n",
    "from selenium.webdriver.common.by import By\n",
    "driver=webdriver.Chrome()\n",
    "url='https://www.youtube.com/watch?v=kffacxfA7G4'\n",
    "driver.get(url)\n",
    "scroll_pause_time=2\n",
    "scrolls=500\n",
    "for _ in range(scrolls):\n",
    "    driver.execute_script('window.scrollTo(0,document.documentElement.scrollHeight);')\n",
    "    time.sleep(scroll_pause_time)\n",
    "    comments=driver.find_elements(By.ID,\"content\")\n",
    "driver.quit()"
   ]
  },
  {
   "cell_type": "markdown",
   "id": "cb30f866",
   "metadata": {},
   "source": [
    "# 9.Write a python program to scrape a data for all available Hostels from https://www.hostelworld.com/ in \n",
    "“London” location. You have to scrape hostel name, distance from city centre, ratings, total reviews, overall \n",
    "reviews, privates from price, dorms from price, facilities and property description. "
   ]
  }
 ],
 "metadata": {
  "kernelspec": {
   "display_name": "Python 3 (ipykernel)",
   "language": "python",
   "name": "python3"
  },
  "language_info": {
   "codemirror_mode": {
    "name": "ipython",
    "version": 3
   },
   "file_extension": ".py",
   "mimetype": "text/x-python",
   "name": "python",
   "nbconvert_exporter": "python",
   "pygments_lexer": "ipython3",
   "version": "3.11.5"
  }
 },
 "nbformat": 4,
 "nbformat_minor": 5
}

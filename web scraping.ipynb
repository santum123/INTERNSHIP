{
 "cells": [
  {
   "cell_type": "code",
   "execution_count": 12,
   "id": "d001d6ae",
   "metadata": {
    "scrolled": true
   },
   "outputs": [
    {
     "name": "stdout",
     "output_type": "stream",
     "text": [
      "Requirement already satisfied: bs4 in c:\\users\\santu\\anaconda3\\lib\\site-packages (0.0.1)\n",
      "Requirement already satisfied: beautifulsoup4 in c:\\users\\santu\\anaconda3\\lib\\site-packages (from bs4) (4.12.2)\n",
      "Requirement already satisfied: soupsieve>1.2 in c:\\users\\santu\\anaconda3\\lib\\site-packages (from beautifulsoup4->bs4) (2.4)\n",
      "Note: you may need to restart the kernel to use updated packages.\n"
     ]
    }
   ],
   "source": [
    "pip install bs4"
   ]
  },
  {
   "cell_type": "code",
   "execution_count": 22,
   "id": "4535e8ae",
   "metadata": {},
   "outputs": [
    {
     "name": "stdout",
     "output_type": "stream",
     "text": [
      "Requirement already satisfied: requests in c:\\users\\santu\\anaconda3\\lib\\site-packages (2.31.0)Note: you may need to restart the kernel to use updated packages.\n",
      "\n",
      "Requirement already satisfied: charset-normalizer<4,>=2 in c:\\users\\santu\\anaconda3\\lib\\site-packages (from requests) (2.0.4)\n",
      "Requirement already satisfied: idna<4,>=2.5 in c:\\users\\santu\\anaconda3\\lib\\site-packages (from requests) (3.4)\n",
      "Requirement already satisfied: urllib3<3,>=1.21.1 in c:\\users\\santu\\anaconda3\\lib\\site-packages (from requests) (1.26.16)\n",
      "Requirement already satisfied: certifi>=2017.4.17 in c:\\users\\santu\\anaconda3\\lib\\site-packages (from requests) (2023.7.22)\n"
     ]
    }
   ],
   "source": [
    "pip install requests"
   ]
  },
  {
   "cell_type": "markdown",
   "id": "2ddc1a2b",
   "metadata": {},
   "source": [
    "# 1.Write a python program to display all the header tags from wikipedia.org and make data frame."
   ]
  },
  {
   "cell_type": "code",
   "execution_count": 34,
   "id": "4cd6f7de",
   "metadata": {},
   "outputs": [],
   "source": [
    "\n",
    "import requests\n",
    "from bs4 import BeautifulSoup\n",
    "url='https://en.wikipedia.org/wiki/Main_Page'\n",
    "r=requests.get(url)\n",
    "soup=BeautifulSoup(r.text,'lxml')\n",
    "head=soup.find_all('h2')\n",
    "print(head)"
   ]
  },
  {
   "cell_type": "markdown",
   "id": "72944987",
   "metadata": {},
   "source": [
    "# 2) Write s python program to display list of respected former presidents of India(i.e. Name , Term ofoffice)\n",
    "from https://presidentofindia.nic.in/former-presidents.htm and make data frame."
   ]
  },
  {
   "cell_type": "code",
   "execution_count": 35,
   "id": "546e55a9",
   "metadata": {},
   "outputs": [
    {
     "name": "stdout",
     "output_type": "stream",
     "text": [
      "[<h3>Shri Ram Nath Kovind</h3>, <h3>Shri Pranab Mukherjee</h3>, <h3>Smt Pratibha Devisingh Patil</h3>, <h3>DR. A.P.J. Abdul Kalam</h3>, <h3>Shri K. R. Narayanan</h3>, <h3>Dr Shankar Dayal Sharma</h3>, <h3>Shri R Venkataraman</h3>, <h3>Giani Zail Singh</h3>, <h3>Shri Neelam Sanjiva Reddy</h3>, <h3>Dr. Fakhruddin Ali Ahmed</h3>, <h3>Shri Varahagiri Venkata Giri</h3>, <h3>Dr. Zakir Husain</h3>, <h3>Dr. Sarvepalli Radhakrishnan</h3>, <h3>Dr. Rajendra Prasad</h3>]\n",
      "[<h5>14th President of India</h5>, <h5>13th President of India</h5>, <h5>12th President of India</h5>, <h5>11th President of India</h5>, <h5>10th President of India</h5>, <h5>9th  President of India</h5>, <h5>8th President of India</h5>, <h5>7th President of India</h5>, <h5>6th President of India</h5>, <h5>5th President of India</h5>, <h5>4th President of India</h5>, <h5>3rd President of India</h5>, <h5>2nd President of India</h5>, <h5>1st President of India</h5>]\n"
     ]
    }
   ],
   "source": [
    "import pandas as pd\n",
    "import requests\n",
    "from bs4 import BeautifulSoup\n",
    "url='https://presidentofindia.nic.in/former-presidents'\n",
    "r=requests.get(url)\n",
    "soup=BeautifulSoup(r.text,'lxml')\n",
    "names=soup.find_all('h3')\n",
    "term_of_office=soup.find_all('h5')\n",
    "print(names)\n",
    "print(term_of_office)"
   ]
  },
  {
   "cell_type": "markdown",
   "id": "2f2fff15",
   "metadata": {},
   "source": [
    "# #Write a python program to scrape cricket rankings from icc-cricket.com. You have to scrape and make data frame- \n",
    " Top 10 ODI teams in men’s cricket along with the records for matches, points and rating. "
   ]
  },
  {
   "cell_type": "code",
   "execution_count": 36,
   "id": "6b36c9ba",
   "metadata": {},
   "outputs": [
    {
     "name": "stdout",
     "output_type": "stream",
     "text": [
      "         team matches points rating\n",
      "0  India\\nIND      55  6,640    121\n",
      "             team matches points rating\n",
      "0      India\\nIND      55  6,640    121\n",
      "1  Australia\\nAUS      42  4,926    117\n",
      "               team matches points rating\n",
      "0        India\\nIND      55  6,640    121\n",
      "1    Australia\\nAUS      42  4,926    117\n",
      "2  South Africa\\nSA      34  3,750    110\n",
      "               team matches points rating\n",
      "0        India\\nIND      55  6,640    121\n",
      "1    Australia\\nAUS      42  4,926    117\n",
      "2  South Africa\\nSA      34  3,750    110\n",
      "3     Pakistan\\nPAK      36  3,922    109\n",
      "               team matches points rating\n",
      "0        India\\nIND      55  6,640    121\n",
      "1    Australia\\nAUS      42  4,926    117\n",
      "2  South Africa\\nSA      34  3,750    110\n",
      "3     Pakistan\\nPAK      36  3,922    109\n",
      "4   New Zealand\\nNZ      43  4,399    102\n",
      "               team matches points rating\n",
      "0        India\\nIND      55  6,640    121\n",
      "1    Australia\\nAUS      42  4,926    117\n",
      "2  South Africa\\nSA      34  3,750    110\n",
      "3     Pakistan\\nPAK      36  3,922    109\n",
      "4   New Zealand\\nNZ      43  4,399    102\n",
      "5      England\\nENG      38  3,777     99\n",
      "               team matches points rating\n",
      "0        India\\nIND      55  6,640    121\n",
      "1    Australia\\nAUS      42  4,926    117\n",
      "2  South Africa\\nSA      34  3,750    110\n",
      "3     Pakistan\\nPAK      36  3,922    109\n",
      "4   New Zealand\\nNZ      43  4,399    102\n",
      "5      England\\nENG      38  3,777     99\n",
      "6     Sri Lanka\\nSL      47  4,134     88\n",
      "               team matches points rating\n",
      "0        India\\nIND      55  6,640    121\n",
      "1    Australia\\nAUS      42  4,926    117\n",
      "2  South Africa\\nSA      34  3,750    110\n",
      "3     Pakistan\\nPAK      36  3,922    109\n",
      "4   New Zealand\\nNZ      43  4,399    102\n",
      "5      England\\nENG      38  3,777     99\n",
      "6     Sri Lanka\\nSL      47  4,134     88\n",
      "7   Bangladesh\\nBAN      44  3,836     87\n",
      "               team matches points rating\n",
      "0        India\\nIND      55  6,640    121\n",
      "1    Australia\\nAUS      42  4,926    117\n",
      "2  South Africa\\nSA      34  3,750    110\n",
      "3     Pakistan\\nPAK      36  3,922    109\n",
      "4   New Zealand\\nNZ      43  4,399    102\n",
      "5      England\\nENG      38  3,777     99\n",
      "6     Sri Lanka\\nSL      47  4,134     88\n",
      "7   Bangladesh\\nBAN      44  3,836     87\n",
      "8  Afghanistan\\nAFG      30  2,533     84\n",
      "               team matches points rating\n",
      "0        India\\nIND      55  6,640    121\n",
      "1    Australia\\nAUS      42  4,926    117\n",
      "2  South Africa\\nSA      34  3,750    110\n",
      "3     Pakistan\\nPAK      36  3,922    109\n",
      "4   New Zealand\\nNZ      43  4,399    102\n",
      "5      England\\nENG      38  3,777     99\n",
      "6     Sri Lanka\\nSL      47  4,134     88\n",
      "7   Bangladesh\\nBAN      44  3,836     87\n",
      "8  Afghanistan\\nAFG      30  2,533     84\n",
      "9   West Indies\\nWI      38  2,582     68\n"
     ]
    }
   ],
   "source": [
    "import pandas as pd\n",
    "import requests\n",
    "from bs4 import BeautifulSoup\n",
    "url='https://www.icc-cricket.com/rankings/mens/team-rankings/odi'\n",
    "r=requests.get(url)\n",
    "soup=BeautifulSoup(r.text,'html.parser')\n",
    "table=soup.find('table',class_='table')\n",
    "rows=table.find_all('tr')\n",
    "team_data=[]\n",
    "#print(rows)\n",
    "for row in rows[1:11]:\n",
    "    cells=row.find_all('td')\n",
    "    team=cells[1].text.strip()\n",
    "    matches=cells[2].text.strip()\n",
    "    points=cells[3].text.strip()\n",
    "    rating=cells[4].text.strip()\n",
    "    team_data.append([team,matches,points,rating])\n",
    "    df=pd.DataFrame(team_data,columns=['team','matches','points','rating'])\n",
    "    print(df)"
   ]
  },
  {
   "cell_type": "markdown",
   "id": "abdd1158",
   "metadata": {},
   "source": [
    "# Top 10 ODI Batsmen along with the records of their team andrating. "
   ]
  },
  {
   "cell_type": "code",
   "execution_count": 37,
   "id": "d72f5eea",
   "metadata": {},
   "outputs": [
    {
     "name": "stdout",
     "output_type": "stream",
     "text": [
      "                 BATSMAN TEAM RATING\n",
      "0           Shubman Gill  IND    826\n",
      "1             Babar Azam  PAK    824\n",
      "2            Virat Kohli  IND    791\n",
      "3           Rohit Sharma  IND    769\n",
      "4        Quinton de Kock   SA    760\n",
      "5         Daryl Mitchell   NZ    750\n",
      "6           David Warner  AUS    745\n",
      "7  Rassie van der Dussen   SA    735\n",
      "8           Harry Tector  IRE    729\n",
      "9            Dawid Malan  ENG    729\n"
     ]
    }
   ],
   "source": [
    "import pandas as pd\n",
    "import requests\n",
    "from bs4 import BeautifulSoup\n",
    "url='https://www.icc-cricket.com/rankings/mens/player-rankings/odi/batting'\n",
    "r=requests.get(url)\n",
    "soup=BeautifulSoup(r.text,'html.parser')\n",
    "table=soup.find('table',class_='table')\n",
    "rows=table.find_all('tr')\n",
    "batsman_data=[]\n",
    "#print(rows)\n",
    "for row in rows[1:11]:\n",
    "    cells=row.find_all('td')\n",
    "    batsman=cells[1].text.strip()\n",
    "    team=cells[2].text.strip()\n",
    "    rating=cells[3].text.strip()\n",
    "    batsman_data.append([batsman,team,rating])\n",
    "df=pd.DataFrame(batsman_data,columns=['BATSMAN','TEAM','RATING'])\n",
    "print(df)"
   ]
  },
  {
   "cell_type": "markdown",
   "id": "1fea3ebe",
   "metadata": {},
   "source": [
    "# Top 10 ODI bowlers along with the records of their team andrating"
   ]
  },
  {
   "cell_type": "code",
   "execution_count": 38,
   "id": "b5807943",
   "metadata": {},
   "outputs": [
    {
     "name": "stdout",
     "output_type": "stream",
     "text": [
      "           BOWLER TEAM RATING\n",
      "0  Keshav Maharaj   SA    741\n",
      "1  Josh Hazlewood  AUS    703\n",
      "2  Mohammed Siraj  IND    699\n",
      "3  Jasprit Bumrah  IND    685\n",
      "4      Adam Zampa  AUS    675\n",
      "5     Rashid Khan  AFG    667\n",
      "6   Kuldeep Yadav  IND    667\n",
      "7     Trent Boult   NZ    663\n",
      "8  Shaheen Afridi  PAK    650\n",
      "9  Mohammad Shami  IND    648\n"
     ]
    }
   ],
   "source": [
    "import pandas as pd\n",
    "import requests\n",
    "from bs4 import BeautifulSoup\n",
    "url='https://www.icc-cricket.com/rankings/mens/player-rankings/odi/bowling'\n",
    "r=requests.get(url)\n",
    "soup=BeautifulSoup(r.text,'html.parser')\n",
    "table=soup.find('table',class_='table')\n",
    "rows=table.find_all('tr')\n",
    "#print(rows)\n",
    "bowler_data=[]\n",
    "for row in rows[1:11]:\n",
    "    cells=row.find_all('td')\n",
    "    bowler=cells[1].text.strip()\n",
    "    team=cells[2].text.strip()\n",
    "    rating=cells[3].text.strip()\n",
    "    bowler_data.append([bowler,team,rating])\n",
    "df=pd.DataFrame(bowler_data,columns=['BOWLER','TEAM','RATING'])\n",
    "print(df)"
   ]
  },
  {
   "cell_type": "markdown",
   "id": "9ed4c7a5",
   "metadata": {},
   "source": [
    "# Write a python program to scrape cricket rankings from icc-cricket.com. You have to scrape and make data frame\n",
    "#a) Top 10 ODI teams in women’s cricket along with the records for matches, points and rating.\n"
   ]
  },
  {
   "cell_type": "code",
   "execution_count": 39,
   "id": "21a94152",
   "metadata": {},
   "outputs": [
    {
     "name": "stdout",
     "output_type": "stream",
     "text": [
      "             team matches points rating\n",
      "0  Australia\\nAUS      21  3,429    163\n",
      "             team matches points rating\n",
      "0  Australia\\nAUS      21  3,429    163\n",
      "1    England\\nENG      23  2,991    130\n",
      "               team matches points rating\n",
      "0    Australia\\nAUS      21  3,429    163\n",
      "1      England\\nENG      23  2,991    130\n",
      "2  South Africa\\nSA      21  2,446    116\n",
      "               team matches points rating\n",
      "0    Australia\\nAUS      21  3,429    163\n",
      "1      England\\nENG      23  2,991    130\n",
      "2  South Africa\\nSA      21  2,446    116\n",
      "3        India\\nIND      18  1,745     97\n",
      "               team matches points rating\n",
      "0    Australia\\nAUS      21  3,429    163\n",
      "1      England\\nENG      23  2,991    130\n",
      "2  South Africa\\nSA      21  2,446    116\n",
      "3        India\\nIND      18  1,745     97\n",
      "4   New Zealand\\nNZ      21  2,014     96\n",
      "               team matches points rating\n",
      "0    Australia\\nAUS      21  3,429    163\n",
      "1      England\\nENG      23  2,991    130\n",
      "2  South Africa\\nSA      21  2,446    116\n",
      "3        India\\nIND      18  1,745     97\n",
      "4   New Zealand\\nNZ      21  2,014     96\n",
      "5   West Indies\\nWI      20  1,768     88\n",
      "               team matches points rating\n",
      "0    Australia\\nAUS      21  3,429    163\n",
      "1      England\\nENG      23  2,991    130\n",
      "2  South Africa\\nSA      21  2,446    116\n",
      "3        India\\nIND      18  1,745     97\n",
      "4   New Zealand\\nNZ      21  2,014     96\n",
      "5   West Indies\\nWI      20  1,768     88\n",
      "6     Sri Lanka\\nSL       9    714     79\n",
      "               team matches points rating\n",
      "0    Australia\\nAUS      21  3,429    163\n",
      "1      England\\nENG      23  2,991    130\n",
      "2  South Africa\\nSA      21  2,446    116\n",
      "3        India\\nIND      18  1,745     97\n",
      "4   New Zealand\\nNZ      21  2,014     96\n",
      "5   West Indies\\nWI      20  1,768     88\n",
      "6     Sri Lanka\\nSL       9    714     79\n",
      "7   Bangladesh\\nBAN      14  1,074     77\n",
      "               team matches points rating\n",
      "0    Australia\\nAUS      21  3,429    163\n",
      "1      England\\nENG      23  2,991    130\n",
      "2  South Africa\\nSA      21  2,446    116\n",
      "3        India\\nIND      18  1,745     97\n",
      "4   New Zealand\\nNZ      21  2,014     96\n",
      "5   West Indies\\nWI      20  1,768     88\n",
      "6     Sri Lanka\\nSL       9    714     79\n",
      "7   Bangladesh\\nBAN      14  1,074     77\n",
      "8     Thailand\\nTHA      11    753     68\n",
      "               team matches points rating\n",
      "0    Australia\\nAUS      21  3,429    163\n",
      "1      England\\nENG      23  2,991    130\n",
      "2  South Africa\\nSA      21  2,446    116\n",
      "3        India\\nIND      18  1,745     97\n",
      "4   New Zealand\\nNZ      21  2,014     96\n",
      "5   West Indies\\nWI      20  1,768     88\n",
      "6     Sri Lanka\\nSL       9    714     79\n",
      "7   Bangladesh\\nBAN      14  1,074     77\n",
      "8     Thailand\\nTHA      11    753     68\n",
      "9     Pakistan\\nPAK      24  1,602     67\n"
     ]
    }
   ],
   "source": [
    "import pandas as pd\n",
    "import requests\n",
    "from bs4 import BeautifulSoup\n",
    "url='https://www.icc-cricket.com/rankings/womens/team-rankings/odi'\n",
    "r=requests.get(url)\n",
    "soup=BeautifulSoup(r.text,'html.parser')\n",
    "table=soup.find('table',class_='table')\n",
    "rows=table.find_all('tr')\n",
    "team_data=[]\n",
    "#print(rows)\n",
    "for row in rows[1:11]:\n",
    "    cells=row.find_all('td')\n",
    "    team=cells[1].text.strip()\n",
    "    matches=cells[2].text.strip()\n",
    "    points=cells[3].text.strip()\n",
    "    rating=cells[4].text.strip()\n",
    "    team_data.append([team,matches,points,rating])\n",
    "    df=pd.DataFrame(team_data,columns=['team','matches','points','rating'])\n",
    "    print(df)"
   ]
  },
  {
   "cell_type": "markdown",
   "id": "f1f6025c",
   "metadata": {},
   "source": [
    "# b) Top 10 women’s ODI Batting players along with the records of their team and rating."
   ]
  },
  {
   "cell_type": "code",
   "execution_count": 40,
   "id": "fa7ac35e",
   "metadata": {},
   "outputs": [
    {
     "name": "stdout",
     "output_type": "stream",
     "text": [
      "                BATSMAN TEAM RATING\n",
      "0  Natalie Sciver-Brunt  ENG    807\n",
      "1           Beth Mooney  AUS    750\n",
      "2   Chamari Athapaththu   SL    736\n",
      "3       Laura Wolvaardt   SA    727\n",
      "4       Smriti Mandhana  IND    708\n",
      "5          Alyssa Healy  AUS    698\n",
      "6          Ellyse Perry  AUS    697\n",
      "7      Harmanpreet Kaur  IND    694\n",
      "8           Meg Lanning  AUS    662\n",
      "9        Marizanne Kapp   SA    642\n"
     ]
    }
   ],
   "source": [
    "import pandas as pd\n",
    "import requests\n",
    "from bs4 import BeautifulSoup\n",
    "url='https://www.icc-cricket.com/rankings/womens/player-rankings/odi/batting'\n",
    "r=requests.get(url)\n",
    "soup=BeautifulSoup(r.text,'html.parser')\n",
    "table=soup.find('table',class_='table')\n",
    "rows=table.find_all('tr')\n",
    "batsman_data=[]\n",
    "#print(rows)\n",
    "for row in rows[1:11]:\n",
    "    cells=row.find_all('td')\n",
    "    batsman=cells[1].text.strip()\n",
    "    team=cells[2].text.strip()\n",
    "    rating=cells[3].text.strip()\n",
    "    batsman_data.append([batsman,team,rating])\n",
    "df=pd.DataFrame(batsman_data,columns=['BATSMAN','TEAM','RATING'])\n",
    "print(df)"
   ]
  },
  {
   "cell_type": "markdown",
   "id": "cf225693",
   "metadata": {},
   "source": [
    "# Write a python program to scrape mentioned news details from https://www.cnbc.com/world/?region=world andmake data frame\u0002\n",
    "#i) Headline,\n",
    "#ii) Time\n",
    "#iii) News Link"
   ]
  },
  {
   "cell_type": "code",
   "execution_count": 41,
   "id": "d3e531d0",
   "metadata": {},
   "outputs": [
    {
     "name": "stdout",
     "output_type": "stream",
     "text": [
      "          Time          News Link\n",
      "0  2 Hours Ago  [Skip Navigation]\n"
     ]
    }
   ],
   "source": [
    "import pandas as pd\n",
    "import numpy as np\n",
    "import requests\n",
    "from bs4 import BeautifulSoup\n",
    "url='https://www.cnbc.com/world/?region=world'\n",
    "r=requests.get(url)\n",
    "soup=BeautifulSoup(r.text,'html.parser')\n",
    "articles=soup.find_all('div',class_='App-containerClick')\n",
    "#print(art)\n",
    "headlines=[]\n",
    "times=[]\n",
    "links=[]\n",
    "for article in articles:\n",
    "    headline=article.find('a').text.strip()\n",
    "    headlines.append(headline)\n",
    "    time=article.find('time').text.strip()\n",
    "    times.append(time)\n",
    "    link=article.find('a')\n",
    "    ['href']\n",
    "    links.append(link)\n",
    "    data={'Time':times,'News Link':links}\n",
    "df=pd.DataFrame(data)\n",
    "print(df)"
   ]
  },
  {
   "cell_type": "markdown",
   "id": "cdd4fd43",
   "metadata": {},
   "source": [
    "# 6) Write a python program to scrape the details of most downloaded articles from AI in last 90\n",
    "days.https://www.journals.elsevier.com/artificial-intelligence/most-downloaded-articles\n",
    "Scrape below mentioned details and make data frame\u0002i) Paper Title\n",
    "ii) Authors\n",
    "iii) Published Date\n",
    "iv) Paper URL\n"
   ]
  },
  {
   "cell_type": "markdown",
   "id": "08362e3a",
   "metadata": {},
   "source": [
    "# 7) Write a python program to scrape mentioned details from dineout.co.inand make data frame\u0002i) Restaurant name\n",
    "#ii) Cuisine\n",
    "#iii) Location,\n",
    "#iv) Ratings\n",
    "#v) Image UR."
   ]
  }
 ],
 "metadata": {
  "kernelspec": {
   "display_name": "Python 3 (ipykernel)",
   "language": "python",
   "name": "python3"
  },
  "language_info": {
   "codemirror_mode": {
    "name": "ipython",
    "version": 3
   },
   "file_extension": ".py",
   "mimetype": "text/x-python",
   "name": "python",
   "nbconvert_exporter": "python",
   "pygments_lexer": "ipython3",
   "version": "3.11.5"
  }
 },
 "nbformat": 4,
 "nbformat_minor": 5
}
